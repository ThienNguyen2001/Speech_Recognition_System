{
  "cells": [
    {
      "cell_type": "code",
      "execution_count": null,
      "metadata": {
        "id": "a4AeDslJPtRV"
      },
      "outputs": [],
      "source": [
        "import pandas as pd\n",
        "import librosa\n",
        "import librosa.display\n",
        "import IPython.display as ipd\n",
        "from tqdm import tqdm\n",
        "from sklearn.preprocessing import LabelEncoder\n",
        "from sklearn.model_selection import train_test_split\n",
        "from sklearn import metrics\n",
        "from tensorflow.keras.callbacks import ModelCheckpoint\n",
        "import glob\n",
        "import os\n",
        "import pathlib\n",
        "import matplotlib.pyplot as plt\n",
        "import numpy as np\n",
        "import seaborn as sns\n",
        "import tensorflow as tf\n",
        "from tensorflow.keras import layers\n",
        "from tensorflow.keras import models\n",
        "from tensorflow.keras.models import Sequential\n",
        "from tensorflow.keras.layers import Dense,Dropout,Activation,Flatten\n",
        "from tensorflow.keras.optimizers import Adam\n",
        "from tensorflow.keras.layers import Dense, LSTM, Dropout\n",
        "from tensorflow.keras.callbacks import ModelCheckpoint, TensorBoard, EarlyStopping\n",
        "from tensorflow.keras.utils import to_categorical"
      ]
    },
    {
      "cell_type": "code",
      "execution_count": null,
      "metadata": {
        "colab": {
          "base_uri": "https://localhost:8080/"
        },
        "id": "moJVmi3h7NWA",
        "outputId": "710bcaef-0f3d-4679-fbbc-1da1a8c7788e"
      },
      "outputs": [
        {
          "output_type": "stream",
          "name": "stdout",
          "text": [
            "Downloading data from https://dl.dropboxusercontent.com/s/72974nnbp1osymg/Number_Data.zip?dl=0\n",
            "893901873/893901873 [==============================] - 12s 0us/step\n"
          ]
        }
      ],
      "source": [
        "DATASET_PATH = 'data/mini_speech_commands'\n",
        "\n",
        "data_dir = pathlib.Path(DATASET_PATH)\n",
        "if not data_dir.exists():\n",
        "  tf.keras.utils.get_file(\n",
        "      'Number_Data.zip',\n",
        "      origin=\"https://dl.dropboxusercontent.com/s/72974nnbp1osymg/Number_Data.zip?dl=0\",\n",
        "      extract=True,\n",
        "      cache_dir='.', cache_subdir='data')"
      ]
    },
    {
      "cell_type": "code",
      "execution_count": null,
      "metadata": {
        "colab": {
          "base_uri": "https://localhost:8080/"
        },
        "id": "R-S4503eKbKW",
        "outputId": "e5676937-0820-4eb3-c25f-d8717049f350"
      },
      "outputs": [
        {
          "output_type": "stream",
          "name": "stdout",
          "text": [
            "Labels:  10\n",
            "Number: ['six' 'five' 'eight' 'one' 'seven' 'nine' 'four' 'two' 'zero' 'three']\n"
          ]
        }
      ],
      "source": [
        "commands = np.array(tf.io.gfile.listdir(str(data_dir)))\n",
        "commands = commands[commands != 'README.md']\n",
        "num_labels= len(commands)\n",
        "print ('Labels: ',num_labels)\n",
        "print('Number:', commands)"
      ]
    },
    {
      "cell_type": "code",
      "execution_count": null,
      "metadata": {
        "colab": {
          "base_uri": "https://localhost:8080/"
        },
        "id": "nohPeffqRlSq",
        "outputId": "ef2cc6d0-d03e-419d-eb61-4b5869a8fe04"
      },
      "outputs": [
        {
          "output_type": "stream",
          "name": "stdout",
          "text": [
            "Saving mini_speech_commands.csv\n"
          ]
        }
      ],
      "source": [
        "def generate_csv(folder, label):\n",
        "    folder_name = os.path.basename(folder)\n",
        "    labels = list(label)\n",
        "    df = pd.DataFrame(columns=[\"filepath\", \"label\"])\n",
        "    i = 0\n",
        "    for label in labels:\n",
        "        for filepath in glob.glob(os.path.join(folder, label, \"*\")):\n",
        "            df.loc[i] = [filepath,label]\n",
        "            i += 1\n",
        "    output_file = f\"{folder_name}.csv\"\n",
        "    print(\"Saving\", output_file)\n",
        "    df.to_csv(output_file)\n",
        "\n",
        "dir_folder = 'data/mini_speech_commands'\n",
        "generate_csv(dir_folder, {'zero','one','two','three','four','five','six','seven','eight','nine'})"
      ]
    },
    {
      "cell_type": "code",
      "execution_count": null,
      "metadata": {
        "colab": {
          "base_uri": "https://localhost:8080/",
          "height": 206
        },
        "id": "abGdCt_tRs3p",
        "outputId": "7e1a7913-4c74-4285-e28a-9349c6ad466a"
      },
      "outputs": [
        {
          "output_type": "execute_result",
          "data": {
            "text/plain": [
              "       Unnamed: 0                                           filepath label\n",
              "38903       38903  data/mini_speech_commands/six/cce7416f_nohash_...   six\n",
              "38904       38904  data/mini_speech_commands/six/ca4912b6_nohash_...   six\n",
              "38905       38905  data/mini_speech_commands/six/876c84d6_nohash_...   six\n",
              "38906       38906  data/mini_speech_commands/six/779de043_nohash_...   six\n",
              "38907       38907  data/mini_speech_commands/six/feb1d305_nohash_...   six"
            ],
            "text/html": [
              "\n",
              "\n",
              "  <div id=\"df-44c5024d-4575-41d7-8b01-4828def979f4\">\n",
              "    <div class=\"colab-df-container\">\n",
              "      <div>\n",
              "<style scoped>\n",
              "    .dataframe tbody tr th:only-of-type {\n",
              "        vertical-align: middle;\n",
              "    }\n",
              "\n",
              "    .dataframe tbody tr th {\n",
              "        vertical-align: top;\n",
              "    }\n",
              "\n",
              "    .dataframe thead th {\n",
              "        text-align: right;\n",
              "    }\n",
              "</style>\n",
              "<table border=\"1\" class=\"dataframe\">\n",
              "  <thead>\n",
              "    <tr style=\"text-align: right;\">\n",
              "      <th></th>\n",
              "      <th>Unnamed: 0</th>\n",
              "      <th>filepath</th>\n",
              "      <th>label</th>\n",
              "    </tr>\n",
              "  </thead>\n",
              "  <tbody>\n",
              "    <tr>\n",
              "      <th>38903</th>\n",
              "      <td>38903</td>\n",
              "      <td>data/mini_speech_commands/six/cce7416f_nohash_...</td>\n",
              "      <td>six</td>\n",
              "    </tr>\n",
              "    <tr>\n",
              "      <th>38904</th>\n",
              "      <td>38904</td>\n",
              "      <td>data/mini_speech_commands/six/ca4912b6_nohash_...</td>\n",
              "      <td>six</td>\n",
              "    </tr>\n",
              "    <tr>\n",
              "      <th>38905</th>\n",
              "      <td>38905</td>\n",
              "      <td>data/mini_speech_commands/six/876c84d6_nohash_...</td>\n",
              "      <td>six</td>\n",
              "    </tr>\n",
              "    <tr>\n",
              "      <th>38906</th>\n",
              "      <td>38906</td>\n",
              "      <td>data/mini_speech_commands/six/779de043_nohash_...</td>\n",
              "      <td>six</td>\n",
              "    </tr>\n",
              "    <tr>\n",
              "      <th>38907</th>\n",
              "      <td>38907</td>\n",
              "      <td>data/mini_speech_commands/six/feb1d305_nohash_...</td>\n",
              "      <td>six</td>\n",
              "    </tr>\n",
              "  </tbody>\n",
              "</table>\n",
              "</div>\n",
              "      <button class=\"colab-df-convert\" onclick=\"convertToInteractive('df-44c5024d-4575-41d7-8b01-4828def979f4')\"\n",
              "              title=\"Convert this dataframe to an interactive table.\"\n",
              "              style=\"display:none;\">\n",
              "\n",
              "  <svg xmlns=\"http://www.w3.org/2000/svg\" height=\"24px\"viewBox=\"0 0 24 24\"\n",
              "       width=\"24px\">\n",
              "    <path d=\"M0 0h24v24H0V0z\" fill=\"none\"/>\n",
              "    <path d=\"M18.56 5.44l.94 2.06.94-2.06 2.06-.94-2.06-.94-.94-2.06-.94 2.06-2.06.94zm-11 1L8.5 8.5l.94-2.06 2.06-.94-2.06-.94L8.5 2.5l-.94 2.06-2.06.94zm10 10l.94 2.06.94-2.06 2.06-.94-2.06-.94-.94-2.06-.94 2.06-2.06.94z\"/><path d=\"M17.41 7.96l-1.37-1.37c-.4-.4-.92-.59-1.43-.59-.52 0-1.04.2-1.43.59L10.3 9.45l-7.72 7.72c-.78.78-.78 2.05 0 2.83L4 21.41c.39.39.9.59 1.41.59.51 0 1.02-.2 1.41-.59l7.78-7.78 2.81-2.81c.8-.78.8-2.07 0-2.86zM5.41 20L4 18.59l7.72-7.72 1.47 1.35L5.41 20z\"/>\n",
              "  </svg>\n",
              "      </button>\n",
              "\n",
              "\n",
              "\n",
              "    <div id=\"df-22234dcb-1171-4e30-8dca-2a9bd51f1a70\">\n",
              "      <button class=\"colab-df-quickchart\" onclick=\"quickchart('df-22234dcb-1171-4e30-8dca-2a9bd51f1a70')\"\n",
              "              title=\"Suggest charts.\"\n",
              "              style=\"display:none;\">\n",
              "\n",
              "<svg xmlns=\"http://www.w3.org/2000/svg\" height=\"24px\"viewBox=\"0 0 24 24\"\n",
              "     width=\"24px\">\n",
              "    <g>\n",
              "        <path d=\"M19 3H5c-1.1 0-2 .9-2 2v14c0 1.1.9 2 2 2h14c1.1 0 2-.9 2-2V5c0-1.1-.9-2-2-2zM9 17H7v-7h2v7zm4 0h-2V7h2v10zm4 0h-2v-4h2v4z\"/>\n",
              "    </g>\n",
              "</svg>\n",
              "      </button>\n",
              "    </div>\n",
              "\n",
              "<style>\n",
              "  .colab-df-quickchart {\n",
              "    background-color: #E8F0FE;\n",
              "    border: none;\n",
              "    border-radius: 50%;\n",
              "    cursor: pointer;\n",
              "    display: none;\n",
              "    fill: #1967D2;\n",
              "    height: 32px;\n",
              "    padding: 0 0 0 0;\n",
              "    width: 32px;\n",
              "  }\n",
              "\n",
              "  .colab-df-quickchart:hover {\n",
              "    background-color: #E2EBFA;\n",
              "    box-shadow: 0px 1px 2px rgba(60, 64, 67, 0.3), 0px 1px 3px 1px rgba(60, 64, 67, 0.15);\n",
              "    fill: #174EA6;\n",
              "  }\n",
              "\n",
              "  [theme=dark] .colab-df-quickchart {\n",
              "    background-color: #3B4455;\n",
              "    fill: #D2E3FC;\n",
              "  }\n",
              "\n",
              "  [theme=dark] .colab-df-quickchart:hover {\n",
              "    background-color: #434B5C;\n",
              "    box-shadow: 0px 1px 3px 1px rgba(0, 0, 0, 0.15);\n",
              "    filter: drop-shadow(0px 1px 2px rgba(0, 0, 0, 0.3));\n",
              "    fill: #FFFFFF;\n",
              "  }\n",
              "</style>\n",
              "\n",
              "    <script>\n",
              "      async function quickchart(key) {\n",
              "        const containerElement = document.querySelector('#' + key);\n",
              "        const charts = await google.colab.kernel.invokeFunction(\n",
              "            'suggestCharts', [key], {});\n",
              "      }\n",
              "    </script>\n",
              "\n",
              "      <script>\n",
              "\n",
              "function displayQuickchartButton(domScope) {\n",
              "  let quickchartButtonEl =\n",
              "    domScope.querySelector('#df-22234dcb-1171-4e30-8dca-2a9bd51f1a70 button.colab-df-quickchart');\n",
              "  quickchartButtonEl.style.display =\n",
              "    google.colab.kernel.accessAllowed ? 'block' : 'none';\n",
              "}\n",
              "\n",
              "        displayQuickchartButton(document);\n",
              "      </script>\n",
              "      <style>\n",
              "    .colab-df-container {\n",
              "      display:flex;\n",
              "      flex-wrap:wrap;\n",
              "      gap: 12px;\n",
              "    }\n",
              "\n",
              "    .colab-df-convert {\n",
              "      background-color: #E8F0FE;\n",
              "      border: none;\n",
              "      border-radius: 50%;\n",
              "      cursor: pointer;\n",
              "      display: none;\n",
              "      fill: #1967D2;\n",
              "      height: 32px;\n",
              "      padding: 0 0 0 0;\n",
              "      width: 32px;\n",
              "    }\n",
              "\n",
              "    .colab-df-convert:hover {\n",
              "      background-color: #E2EBFA;\n",
              "      box-shadow: 0px 1px 2px rgba(60, 64, 67, 0.3), 0px 1px 3px 1px rgba(60, 64, 67, 0.15);\n",
              "      fill: #174EA6;\n",
              "    }\n",
              "\n",
              "    [theme=dark] .colab-df-convert {\n",
              "      background-color: #3B4455;\n",
              "      fill: #D2E3FC;\n",
              "    }\n",
              "\n",
              "    [theme=dark] .colab-df-convert:hover {\n",
              "      background-color: #434B5C;\n",
              "      box-shadow: 0px 1px 3px 1px rgba(0, 0, 0, 0.15);\n",
              "      filter: drop-shadow(0px 1px 2px rgba(0, 0, 0, 0.3));\n",
              "      fill: #FFFFFF;\n",
              "    }\n",
              "  </style>\n",
              "\n",
              "      <script>\n",
              "        const buttonEl =\n",
              "          document.querySelector('#df-44c5024d-4575-41d7-8b01-4828def979f4 button.colab-df-convert');\n",
              "        buttonEl.style.display =\n",
              "          google.colab.kernel.accessAllowed ? 'block' : 'none';\n",
              "\n",
              "        async function convertToInteractive(key) {\n",
              "          const element = document.querySelector('#df-44c5024d-4575-41d7-8b01-4828def979f4');\n",
              "          const dataTable =\n",
              "            await google.colab.kernel.invokeFunction('convertToInteractive',\n",
              "                                                     [key], {});\n",
              "          if (!dataTable) return;\n",
              "\n",
              "          const docLinkHtml = 'Like what you see? Visit the ' +\n",
              "            '<a target=\"_blank\" href=https://colab.research.google.com/notebooks/data_table.ipynb>data table notebook</a>'\n",
              "            + ' to learn more about interactive tables.';\n",
              "          element.innerHTML = '';\n",
              "          dataTable['output_type'] = 'display_data';\n",
              "          await google.colab.output.renderOutput(dataTable, element);\n",
              "          const docLink = document.createElement('div');\n",
              "          docLink.innerHTML = docLinkHtml;\n",
              "          element.appendChild(docLink);\n",
              "        }\n",
              "      </script>\n",
              "    </div>\n",
              "  </div>\n"
            ]
          },
          "metadata": {},
          "execution_count": 5
        }
      ],
      "source": [
        "number_data = \"mini_speech_commands.csv\"\n",
        "number_data = pd.read_csv(number_data)\n",
        "number_data.tail()"
      ]
    },
    {
      "cell_type": "code",
      "execution_count": null,
      "metadata": {
        "id": "QmzabVlvTGoh"
      },
      "outputs": [],
      "source": [
        "def features_extractor(file_name):\n",
        "    audio, sample_rate = librosa.load(file_name)\n",
        "    mfcc = librosa.feature.mfcc(y=audio, sr=sample_rate, n_mfcc=13)\n",
        "    mfccs = np.zeros((13,44))\n",
        "    mfccs[:mfcc.shape[0], :mfcc.shape[1]]=mfcc\n",
        "    delta_mfccs = librosa.feature.delta(mfccs)\n",
        "    delta2_mfccs = librosa.feature.delta(mfccs, order=2)\n",
        "    mfccs_features = np.concatenate((mfccs, delta_mfccs, delta2_mfccs))\n",
        "\n",
        "    return mfccs_features"
      ]
    },
    {
      "cell_type": "code",
      "execution_count": null,
      "metadata": {
        "colab": {
          "base_uri": "https://localhost:8080/"
        },
        "id": "QNIT1srxcYn3",
        "outputId": "eb6126a4-6164-4987-f489-00d9679a4d10"
      },
      "outputs": [
        {
          "output_type": "stream",
          "name": "stderr",
          "text": [
            "38908it [10:39, 60.81it/s]\n"
          ]
        }
      ],
      "source": [
        "extracted_mfccs=[]\n",
        "for index_num,row in tqdm(number_data.iterrows()):\n",
        "    filename = str(row[\"filepath\"])\n",
        "    class_labels=row[\"label\"]\n",
        "    data=features_extractor(filename)\n",
        "    extracted_mfccs.append([data,class_labels])"
      ]
    },
    {
      "cell_type": "code",
      "execution_count": null,
      "metadata": {
        "colab": {
          "base_uri": "https://localhost:8080/",
          "height": 206
        },
        "id": "WZD3WREKeZTZ",
        "outputId": "1522fc68-78ee-48bb-82e2-9a2a8346faf4"
      },
      "outputs": [
        {
          "output_type": "execute_result",
          "data": {
            "text/plain": [
              "                                                 feature label\n",
              "38903  [[-613.0975341796875, -376.6209411621094, -290...   six\n",
              "38904  [[-672.01904296875, -668.9650268554688, -669.4...   six\n",
              "38905  [[-506.1437072753906, -513.0045166015625, -522...   six\n",
              "38906  [[-530.0039672851562, -508.61676025390625, -49...   six\n",
              "38907  [[-454.74456787109375, -433.4952087402344, -42...   six"
            ],
            "text/html": [
              "\n",
              "\n",
              "  <div id=\"df-875c52dd-acf7-44ce-98b4-951fd3a7746e\">\n",
              "    <div class=\"colab-df-container\">\n",
              "      <div>\n",
              "<style scoped>\n",
              "    .dataframe tbody tr th:only-of-type {\n",
              "        vertical-align: middle;\n",
              "    }\n",
              "\n",
              "    .dataframe tbody tr th {\n",
              "        vertical-align: top;\n",
              "    }\n",
              "\n",
              "    .dataframe thead th {\n",
              "        text-align: right;\n",
              "    }\n",
              "</style>\n",
              "<table border=\"1\" class=\"dataframe\">\n",
              "  <thead>\n",
              "    <tr style=\"text-align: right;\">\n",
              "      <th></th>\n",
              "      <th>feature</th>\n",
              "      <th>label</th>\n",
              "    </tr>\n",
              "  </thead>\n",
              "  <tbody>\n",
              "    <tr>\n",
              "      <th>38903</th>\n",
              "      <td>[[-613.0975341796875, -376.6209411621094, -290...</td>\n",
              "      <td>six</td>\n",
              "    </tr>\n",
              "    <tr>\n",
              "      <th>38904</th>\n",
              "      <td>[[-672.01904296875, -668.9650268554688, -669.4...</td>\n",
              "      <td>six</td>\n",
              "    </tr>\n",
              "    <tr>\n",
              "      <th>38905</th>\n",
              "      <td>[[-506.1437072753906, -513.0045166015625, -522...</td>\n",
              "      <td>six</td>\n",
              "    </tr>\n",
              "    <tr>\n",
              "      <th>38906</th>\n",
              "      <td>[[-530.0039672851562, -508.61676025390625, -49...</td>\n",
              "      <td>six</td>\n",
              "    </tr>\n",
              "    <tr>\n",
              "      <th>38907</th>\n",
              "      <td>[[-454.74456787109375, -433.4952087402344, -42...</td>\n",
              "      <td>six</td>\n",
              "    </tr>\n",
              "  </tbody>\n",
              "</table>\n",
              "</div>\n",
              "      <button class=\"colab-df-convert\" onclick=\"convertToInteractive('df-875c52dd-acf7-44ce-98b4-951fd3a7746e')\"\n",
              "              title=\"Convert this dataframe to an interactive table.\"\n",
              "              style=\"display:none;\">\n",
              "\n",
              "  <svg xmlns=\"http://www.w3.org/2000/svg\" height=\"24px\"viewBox=\"0 0 24 24\"\n",
              "       width=\"24px\">\n",
              "    <path d=\"M0 0h24v24H0V0z\" fill=\"none\"/>\n",
              "    <path d=\"M18.56 5.44l.94 2.06.94-2.06 2.06-.94-2.06-.94-.94-2.06-.94 2.06-2.06.94zm-11 1L8.5 8.5l.94-2.06 2.06-.94-2.06-.94L8.5 2.5l-.94 2.06-2.06.94zm10 10l.94 2.06.94-2.06 2.06-.94-2.06-.94-.94-2.06-.94 2.06-2.06.94z\"/><path d=\"M17.41 7.96l-1.37-1.37c-.4-.4-.92-.59-1.43-.59-.52 0-1.04.2-1.43.59L10.3 9.45l-7.72 7.72c-.78.78-.78 2.05 0 2.83L4 21.41c.39.39.9.59 1.41.59.51 0 1.02-.2 1.41-.59l7.78-7.78 2.81-2.81c.8-.78.8-2.07 0-2.86zM5.41 20L4 18.59l7.72-7.72 1.47 1.35L5.41 20z\"/>\n",
              "  </svg>\n",
              "      </button>\n",
              "\n",
              "\n",
              "\n",
              "    <div id=\"df-c8facf40-454e-440d-bf85-ec7d202aab86\">\n",
              "      <button class=\"colab-df-quickchart\" onclick=\"quickchart('df-c8facf40-454e-440d-bf85-ec7d202aab86')\"\n",
              "              title=\"Suggest charts.\"\n",
              "              style=\"display:none;\">\n",
              "\n",
              "<svg xmlns=\"http://www.w3.org/2000/svg\" height=\"24px\"viewBox=\"0 0 24 24\"\n",
              "     width=\"24px\">\n",
              "    <g>\n",
              "        <path d=\"M19 3H5c-1.1 0-2 .9-2 2v14c0 1.1.9 2 2 2h14c1.1 0 2-.9 2-2V5c0-1.1-.9-2-2-2zM9 17H7v-7h2v7zm4 0h-2V7h2v10zm4 0h-2v-4h2v4z\"/>\n",
              "    </g>\n",
              "</svg>\n",
              "      </button>\n",
              "    </div>\n",
              "\n",
              "<style>\n",
              "  .colab-df-quickchart {\n",
              "    background-color: #E8F0FE;\n",
              "    border: none;\n",
              "    border-radius: 50%;\n",
              "    cursor: pointer;\n",
              "    display: none;\n",
              "    fill: #1967D2;\n",
              "    height: 32px;\n",
              "    padding: 0 0 0 0;\n",
              "    width: 32px;\n",
              "  }\n",
              "\n",
              "  .colab-df-quickchart:hover {\n",
              "    background-color: #E2EBFA;\n",
              "    box-shadow: 0px 1px 2px rgba(60, 64, 67, 0.3), 0px 1px 3px 1px rgba(60, 64, 67, 0.15);\n",
              "    fill: #174EA6;\n",
              "  }\n",
              "\n",
              "  [theme=dark] .colab-df-quickchart {\n",
              "    background-color: #3B4455;\n",
              "    fill: #D2E3FC;\n",
              "  }\n",
              "\n",
              "  [theme=dark] .colab-df-quickchart:hover {\n",
              "    background-color: #434B5C;\n",
              "    box-shadow: 0px 1px 3px 1px rgba(0, 0, 0, 0.15);\n",
              "    filter: drop-shadow(0px 1px 2px rgba(0, 0, 0, 0.3));\n",
              "    fill: #FFFFFF;\n",
              "  }\n",
              "</style>\n",
              "\n",
              "    <script>\n",
              "      async function quickchart(key) {\n",
              "        const containerElement = document.querySelector('#' + key);\n",
              "        const charts = await google.colab.kernel.invokeFunction(\n",
              "            'suggestCharts', [key], {});\n",
              "      }\n",
              "    </script>\n",
              "\n",
              "      <script>\n",
              "\n",
              "function displayQuickchartButton(domScope) {\n",
              "  let quickchartButtonEl =\n",
              "    domScope.querySelector('#df-c8facf40-454e-440d-bf85-ec7d202aab86 button.colab-df-quickchart');\n",
              "  quickchartButtonEl.style.display =\n",
              "    google.colab.kernel.accessAllowed ? 'block' : 'none';\n",
              "}\n",
              "\n",
              "        displayQuickchartButton(document);\n",
              "      </script>\n",
              "      <style>\n",
              "    .colab-df-container {\n",
              "      display:flex;\n",
              "      flex-wrap:wrap;\n",
              "      gap: 12px;\n",
              "    }\n",
              "\n",
              "    .colab-df-convert {\n",
              "      background-color: #E8F0FE;\n",
              "      border: none;\n",
              "      border-radius: 50%;\n",
              "      cursor: pointer;\n",
              "      display: none;\n",
              "      fill: #1967D2;\n",
              "      height: 32px;\n",
              "      padding: 0 0 0 0;\n",
              "      width: 32px;\n",
              "    }\n",
              "\n",
              "    .colab-df-convert:hover {\n",
              "      background-color: #E2EBFA;\n",
              "      box-shadow: 0px 1px 2px rgba(60, 64, 67, 0.3), 0px 1px 3px 1px rgba(60, 64, 67, 0.15);\n",
              "      fill: #174EA6;\n",
              "    }\n",
              "\n",
              "    [theme=dark] .colab-df-convert {\n",
              "      background-color: #3B4455;\n",
              "      fill: #D2E3FC;\n",
              "    }\n",
              "\n",
              "    [theme=dark] .colab-df-convert:hover {\n",
              "      background-color: #434B5C;\n",
              "      box-shadow: 0px 1px 3px 1px rgba(0, 0, 0, 0.15);\n",
              "      filter: drop-shadow(0px 1px 2px rgba(0, 0, 0, 0.3));\n",
              "      fill: #FFFFFF;\n",
              "    }\n",
              "  </style>\n",
              "\n",
              "      <script>\n",
              "        const buttonEl =\n",
              "          document.querySelector('#df-875c52dd-acf7-44ce-98b4-951fd3a7746e button.colab-df-convert');\n",
              "        buttonEl.style.display =\n",
              "          google.colab.kernel.accessAllowed ? 'block' : 'none';\n",
              "\n",
              "        async function convertToInteractive(key) {\n",
              "          const element = document.querySelector('#df-875c52dd-acf7-44ce-98b4-951fd3a7746e');\n",
              "          const dataTable =\n",
              "            await google.colab.kernel.invokeFunction('convertToInteractive',\n",
              "                                                     [key], {});\n",
              "          if (!dataTable) return;\n",
              "\n",
              "          const docLinkHtml = 'Like what you see? Visit the ' +\n",
              "            '<a target=\"_blank\" href=https://colab.research.google.com/notebooks/data_table.ipynb>data table notebook</a>'\n",
              "            + ' to learn more about interactive tables.';\n",
              "          element.innerHTML = '';\n",
              "          dataTable['output_type'] = 'display_data';\n",
              "          await google.colab.output.renderOutput(dataTable, element);\n",
              "          const docLink = document.createElement('div');\n",
              "          docLink.innerHTML = docLinkHtml;\n",
              "          element.appendChild(docLink);\n",
              "        }\n",
              "      </script>\n",
              "    </div>\n",
              "  </div>\n"
            ]
          },
          "metadata": {},
          "execution_count": 8
        }
      ],
      "source": [
        "extracted_features_df=pd.DataFrame(extracted_mfccs,columns=['feature','label'])\n",
        "extracted_features_df.tail()"
      ]
    },
    {
      "cell_type": "code",
      "execution_count": null,
      "metadata": {
        "colab": {
          "base_uri": "https://localhost:8080/"
        },
        "id": "bf73T3ACnvCg",
        "outputId": "77776765-abe8-4a66-ff62-eb46240aac98"
      },
      "outputs": [
        {
          "output_type": "execute_result",
          "data": {
            "text/plain": [
              "(39, 44)"
            ]
          },
          "metadata": {},
          "execution_count": 9
        }
      ],
      "source": [
        "extracted_features_df['feature'][0].shape"
      ]
    },
    {
      "cell_type": "code",
      "execution_count": null,
      "metadata": {
        "colab": {
          "base_uri": "https://localhost:8080/"
        },
        "id": "KXmMMst87EPq",
        "outputId": "da1f3933-6b7e-4e8d-9114-b58c98f2f869"
      },
      "outputs": [
        {
          "output_type": "execute_result",
          "data": {
            "text/plain": [
              "(38908, 39, 44)"
            ]
          },
          "metadata": {},
          "execution_count": 10
        }
      ],
      "source": [
        "x_data = np.stack(extracted_features_df['feature'])\n",
        "y_data =np.array(extracted_features_df['label'].tolist())\n",
        "x_data.shape"
      ]
    },
    {
      "cell_type": "code",
      "execution_count": null,
      "metadata": {
        "colab": {
          "base_uri": "https://localhost:8080/"
        },
        "id": "aIhuIwp27X8W",
        "outputId": "4e340ee5-20dd-43f3-99f0-4765196a38fc"
      },
      "outputs": [
        {
          "output_type": "stream",
          "name": "stdout",
          "text": [
            "one\n",
            "[0. 0. 0. 0. 1. 0. 0. 0. 0. 0.]\n"
          ]
        }
      ],
      "source": [
        "labelencoder=LabelEncoder()\n",
        "y_encoder=to_categorical(labelencoder.fit_transform(y_data))\n",
        "x = 2836\n",
        "print(y_data[x])\n",
        "print(y_encoder[x])"
      ]
    },
    {
      "cell_type": "code",
      "execution_count": null,
      "metadata": {
        "id": "PWqe1uV2fHJu"
      },
      "outputs": [],
      "source": [
        "def split_data(x_data, y_data, test_size=0.1, valid_size=0.1):\n",
        "    X_train, X_test, y_train, y_test = train_test_split(x_data, y_data, test_size=test_size, random_state=5)\n",
        "    X_train, X_valid, y_train, y_valid = train_test_split(X_train, y_train, test_size=valid_size, random_state=5)\n",
        "    # return a dictionary of values\n",
        "    return {\n",
        "        \"X_train\": X_train,\n",
        "        \"X_valid\": X_valid,\n",
        "        \"X_test\": X_test,\n",
        "        \"y_train\": y_train,\n",
        "        \"y_valid\": y_valid,\n",
        "        \"y_test\": y_test\n",
        "    }\n",
        "data = split_data(x_data, y_encoder, test_size=0.1, valid_size=0.1)"
      ]
    },
    {
      "cell_type": "code",
      "execution_count": null,
      "metadata": {
        "colab": {
          "base_uri": "https://localhost:8080/"
        },
        "id": "E7aKRVQmpIw-",
        "outputId": "b7d29e56-ded1-47fd-89e3-13727ef19fa8"
      },
      "outputs": [
        {
          "output_type": "execute_result",
          "data": {
            "text/plain": [
              "(31515, 39, 44)"
            ]
          },
          "metadata": {},
          "execution_count": 24
        }
      ],
      "source": [
        "data[\"X_train\"].shape"
      ]
    },
    {
      "cell_type": "code",
      "execution_count": null,
      "metadata": {
        "colab": {
          "base_uri": "https://localhost:8080/"
        },
        "id": "r2wWicnagRnf",
        "outputId": "fde5a05a-7c72-4fe0-9b52-42132875299d"
      },
      "outputs": [
        {
          "output_type": "stream",
          "name": "stdout",
          "text": [
            "Model: \"sequential_1\"\n",
            "_________________________________________________________________\n",
            " Layer (type)                Output Shape              Param #   \n",
            "=================================================================\n",
            " flatten_1 (Flatten)         (None, 1716)              0         \n",
            "                                                                 \n",
            " dense_7 (Dense)             (None, 256)               439552    \n",
            "                                                                 \n",
            " dropout_6 (Dropout)         (None, 256)               0         \n",
            "                                                                 \n",
            " dense_8 (Dense)             (None, 128)               32896     \n",
            "                                                                 \n",
            " dropout_7 (Dropout)         (None, 128)               0         \n",
            "                                                                 \n",
            " dense_9 (Dense)             (None, 128)               16512     \n",
            "                                                                 \n",
            " dropout_8 (Dropout)         (None, 128)               0         \n",
            "                                                                 \n",
            " dense_10 (Dense)            (None, 64)                8256      \n",
            "                                                                 \n",
            " dropout_9 (Dropout)         (None, 64)                0         \n",
            "                                                                 \n",
            " dense_11 (Dense)            (None, 64)                4160      \n",
            "                                                                 \n",
            " dropout_10 (Dropout)        (None, 64)                0         \n",
            "                                                                 \n",
            " dense_12 (Dense)            (None, 32)                2080      \n",
            "                                                                 \n",
            " dropout_11 (Dropout)        (None, 32)                0         \n",
            "                                                                 \n",
            " dense_13 (Dense)            (None, 10)                330       \n",
            "                                                                 \n",
            "=================================================================\n",
            "Total params: 503,786\n",
            "Trainable params: 503,786\n",
            "Non-trainable params: 0\n",
            "_________________________________________________________________\n"
          ]
        }
      ],
      "source": [
        "model = Sequential()\n",
        "model.add(Flatten(input_shape=(39,44)))\n",
        "model.add(Dense(256,activation ='relu'))\n",
        "model.add(Dropout(0.1))\n",
        "model.add(Dense(128, activation=\"relu\"))\n",
        "model.add(Dropout(0.1))\n",
        "model.add(Dense(128, activation=\"relu\"))\n",
        "model.add(Dropout(0.1))\n",
        "model.add(Dense(64, activation=\"relu\"))\n",
        "model.add(Dropout(0.1))\n",
        "model.add(Dense(64, activation=\"relu\"))\n",
        "model.add(Dropout(0.1))\n",
        "model.add(Dense(32, activation=\"relu\"))\n",
        "model.add(Dropout(0.1))\n",
        "model.add(Dense(num_labels,activation = 'softmax'))\n",
        "model.summary()"
      ]
    },
    {
      "cell_type": "code",
      "execution_count": null,
      "metadata": {
        "id": "TRaKnUAQfjkH"
      },
      "outputs": [],
      "source": [
        "model.compile(\n",
        "    loss='categorical_crossentropy',\n",
        "    metrics=['accuracy'],\n",
        "    optimizer='adam'\n",
        "    )"
      ]
    },
    {
      "cell_type": "code",
      "execution_count": null,
      "metadata": {
        "colab": {
          "base_uri": "https://localhost:8080/"
        },
        "id": "2L6viR2PiHhF",
        "outputId": "f0765d1f-3dce-4e5e-ffa2-b62070d3c937"
      },
      "outputs": [
        {
          "output_type": "stream",
          "name": "stdout",
          "text": [
            "Epoch 1/100\n",
            "247/247 [==============================] - 6s 18ms/step - loss: 2.7732 - accuracy: 0.1051 - val_loss: 2.3027 - val_accuracy: 0.1054\n",
            "Epoch 2/100\n",
            "247/247 [==============================] - 5s 21ms/step - loss: 2.2381 - accuracy: 0.1463 - val_loss: 2.1580 - val_accuracy: 0.1770\n",
            "Epoch 3/100\n",
            "247/247 [==============================] - 4s 16ms/step - loss: 2.1358 - accuracy: 0.1851 - val_loss: 2.0180 - val_accuracy: 0.2638\n",
            "Epoch 4/100\n",
            "247/247 [==============================] - 4s 17ms/step - loss: 1.8030 - accuracy: 0.3519 - val_loss: 1.3365 - val_accuracy: 0.5109\n",
            "Epoch 5/100\n",
            "247/247 [==============================] - 5s 21ms/step - loss: 1.3917 - accuracy: 0.4871 - val_loss: 1.0715 - val_accuracy: 0.6174\n",
            "Epoch 6/100\n",
            "247/247 [==============================] - 4s 16ms/step - loss: 1.1418 - accuracy: 0.5904 - val_loss: 0.8247 - val_accuracy: 0.7110\n",
            "Epoch 7/100\n",
            "247/247 [==============================] - 4s 17ms/step - loss: 0.9823 - accuracy: 0.6626 - val_loss: 0.7657 - val_accuracy: 0.7444\n",
            "Epoch 8/100\n",
            "247/247 [==============================] - 5s 21ms/step - loss: 0.8490 - accuracy: 0.7179 - val_loss: 0.6074 - val_accuracy: 0.8127\n",
            "Epoch 9/100\n",
            "247/247 [==============================] - 4s 16ms/step - loss: 0.7291 - accuracy: 0.7664 - val_loss: 0.5921 - val_accuracy: 0.8164\n",
            "Epoch 10/100\n",
            "247/247 [==============================] - 4s 16ms/step - loss: 0.6665 - accuracy: 0.7904 - val_loss: 0.5602 - val_accuracy: 0.8275\n",
            "Epoch 11/100\n",
            "247/247 [==============================] - 5s 21ms/step - loss: 0.6089 - accuracy: 0.8097 - val_loss: 0.5036 - val_accuracy: 0.8452\n",
            "Epoch 12/100\n",
            "247/247 [==============================] - 4s 16ms/step - loss: 0.5669 - accuracy: 0.8244 - val_loss: 0.4708 - val_accuracy: 0.8532\n",
            "Epoch 13/100\n",
            "247/247 [==============================] - 4s 17ms/step - loss: 0.5381 - accuracy: 0.8313 - val_loss: 0.4455 - val_accuracy: 0.8578\n",
            "Epoch 14/100\n",
            "247/247 [==============================] - 5s 21ms/step - loss: 0.5149 - accuracy: 0.8419 - val_loss: 0.4226 - val_accuracy: 0.8666\n",
            "Epoch 15/100\n",
            "247/247 [==============================] - 4s 16ms/step - loss: 0.4884 - accuracy: 0.8496 - val_loss: 0.4607 - val_accuracy: 0.8612\n",
            "Epoch 16/100\n",
            "247/247 [==============================] - 4s 17ms/step - loss: 0.4601 - accuracy: 0.8556 - val_loss: 0.4111 - val_accuracy: 0.8698\n",
            "Epoch 17/100\n",
            "247/247 [==============================] - 5s 21ms/step - loss: 0.4677 - accuracy: 0.8540 - val_loss: 0.3862 - val_accuracy: 0.8772\n",
            "Epoch 18/100\n",
            "247/247 [==============================] - 4s 16ms/step - loss: 0.4323 - accuracy: 0.8647 - val_loss: 0.3979 - val_accuracy: 0.8704\n",
            "Epoch 19/100\n",
            "247/247 [==============================] - 4s 17ms/step - loss: 0.4196 - accuracy: 0.8698 - val_loss: 0.3951 - val_accuracy: 0.8735\n",
            "Epoch 20/100\n",
            "247/247 [==============================] - 5s 21ms/step - loss: 0.4174 - accuracy: 0.8682 - val_loss: 0.3795 - val_accuracy: 0.8789\n",
            "Epoch 21/100\n",
            "247/247 [==============================] - 4s 16ms/step - loss: 0.4011 - accuracy: 0.8739 - val_loss: 0.4036 - val_accuracy: 0.8744\n",
            "Epoch 22/100\n",
            "247/247 [==============================] - 4s 17ms/step - loss: 0.4001 - accuracy: 0.8771 - val_loss: 0.3746 - val_accuracy: 0.8849\n",
            "Epoch 23/100\n",
            "247/247 [==============================] - 5s 21ms/step - loss: 0.3851 - accuracy: 0.8794 - val_loss: 0.3731 - val_accuracy: 0.8832\n",
            "Epoch 24/100\n",
            "247/247 [==============================] - 4s 17ms/step - loss: 0.3751 - accuracy: 0.8830 - val_loss: 0.3694 - val_accuracy: 0.8869\n",
            "Epoch 25/100\n",
            "247/247 [==============================] - 4s 17ms/step - loss: 0.3698 - accuracy: 0.8872 - val_loss: 0.3706 - val_accuracy: 0.8849\n",
            "Epoch 26/100\n",
            "247/247 [==============================] - 5s 21ms/step - loss: 0.3654 - accuracy: 0.8846 - val_loss: 0.3535 - val_accuracy: 0.8838\n",
            "Epoch 27/100\n",
            "247/247 [==============================] - 4s 16ms/step - loss: 0.3638 - accuracy: 0.8853 - val_loss: 0.3991 - val_accuracy: 0.8778\n",
            "Epoch 28/100\n",
            "247/247 [==============================] - 4s 16ms/step - loss: 0.3440 - accuracy: 0.8933 - val_loss: 0.3636 - val_accuracy: 0.8838\n",
            "Epoch 29/100\n",
            "247/247 [==============================] - 5s 21ms/step - loss: 0.3343 - accuracy: 0.8962 - val_loss: 0.3506 - val_accuracy: 0.8921\n",
            "Epoch 30/100\n",
            "247/247 [==============================] - 4s 17ms/step - loss: 0.3268 - accuracy: 0.9001 - val_loss: 0.3586 - val_accuracy: 0.8898\n",
            "Epoch 31/100\n",
            "247/247 [==============================] - 4s 16ms/step - loss: 0.3330 - accuracy: 0.8967 - val_loss: 0.3562 - val_accuracy: 0.8921\n",
            "Epoch 32/100\n",
            "247/247 [==============================] - 5s 21ms/step - loss: 0.3279 - accuracy: 0.8974 - val_loss: 0.3554 - val_accuracy: 0.8915\n",
            "Epoch 33/100\n",
            "247/247 [==============================] - 4s 17ms/step - loss: 0.3108 - accuracy: 0.9038 - val_loss: 0.3579 - val_accuracy: 0.8949\n",
            "Epoch 34/100\n",
            "247/247 [==============================] - 4s 17ms/step - loss: 0.3096 - accuracy: 0.9038 - val_loss: 0.3615 - val_accuracy: 0.8941\n",
            "Epoch 34: early stopping\n"
          ]
        }
      ],
      "source": [
        "\n",
        "batch_size = 128\n",
        "epochs = 100\n",
        "# train the model using the training set and validating using validation set\n",
        "history = model.fit(\n",
        "    data[\"X_train\"], data[\"y_train\"],\n",
        "    epochs=epochs,\n",
        "    batch_size=batch_size,\n",
        "    validation_data=(data[\"X_valid\"], data[\"y_valid\"]),\n",
        "    callbacks=tf.keras.callbacks.EarlyStopping(verbose=1, patience=5),\n",
        ")"
      ]
    },
    {
      "cell_type": "code",
      "execution_count": null,
      "metadata": {
        "colab": {
          "base_uri": "https://localhost:8080/"
        },
        "id": "Mi-YrqxBbZc-",
        "outputId": "d17bad5e-cf03-42bf-b9af-e0d48dca702f"
      },
      "outputs": [
        {
          "output_type": "stream",
          "name": "stdout",
          "text": [
            "Evaluating the model using 3891 samples...\n",
            "Loss: 0.3638\n",
            "Accuracy: 89.69%\n"
          ]
        }
      ],
      "source": [
        "print(f\"Evaluating the model using {len(data['X_test'])} samples...\")\n",
        "loss, accuracy = model.evaluate(data[\"X_test\"], data[\"y_test\"], verbose=0)\n",
        "print(f\"Loss: {loss:.4f}\")\n",
        "print(f\"Accuracy: {accuracy*100:.2f}%\")"
      ]
    },
    {
      "cell_type": "markdown",
      "metadata": {
        "id": "grhMvQ7EHSTy"
      },
      "source": []
    },
    {
      "cell_type": "code",
      "execution_count": null,
      "metadata": {
        "colab": {
          "base_uri": "https://localhost:8080/",
          "height": 430
        },
        "id": "X58NSmHCmDOy",
        "outputId": "7d7a16ba-cbc8-4178-8e99-32488ddf25ce"
      },
      "outputs": [
        {
          "output_type": "display_data",
          "data": {
            "text/plain": [
              "<Figure size 640x480 with 1 Axes>"
            ],
            "image/png": "[encoded data removed]"
          },
          "metadata": {}
        }
      ],
      "source": [
        "metrics = history.history\n",
        "plt.plot(history.epoch, metrics['loss'], metrics['val_loss'])\n",
        "plt.legend(['loss', 'val_loss'])\n",
        "plt.show()"
      ]
    },
    {
      "cell_type": "code",
      "execution_count": null,
      "metadata": {
        "colab": {
          "base_uri": "https://localhost:8080/"
        },
        "id": "v1PSpP84zuwl",
        "outputId": "adde3cf9-20b6-43c8-cbd9-23fdf52fd259"
      },
      "outputs": [
        {
          "output_type": "stream",
          "name": "stdout",
          "text": [
            "1/1 [==============================] - 0s 145ms/step\n"
          ]
        }
      ],
      "source": [
        "file_test = data_dir/'zero/004ae714_nohash_0.wav'\n",
        "feature = features_extractor(file_test).reshape(1,39,44)\n",
        "y_predict=model.predict(feature)"
      ]
    },
    {
      "cell_type": "code",
      "execution_count": null,
      "metadata": {
        "colab": {
          "base_uri": "https://localhost:8080/"
        },
        "id": "Rwxq0GSoFjxh",
        "outputId": "6675cc6e-e6d7-4727-e459-fba0f7db1770"
      },
      "outputs": [
        {
          "output_type": "stream",
          "name": "stdout",
          "text": [
            "zero\n"
          ]
        }
      ],
      "source": [
        "s = np.argmax(y_predict[0])\n",
        "match s:\n",
        "  case 0:\n",
        "    print(\"eight\")\n",
        "  case 1:\n",
        "    print(\"five\")\n",
        "  case 2:\n",
        "    print(\"four\")\n",
        "  case 3:\n",
        "    print(\"nine\")\n",
        "  case 4:\n",
        "    print(\"one\")\n",
        "  case 5:\n",
        "    print(\"seven\")\n",
        "  case 6:\n",
        "    print(\"six\")\n",
        "  case 7:\n",
        "    print(\"three\")\n",
        "  case 8:\n",
        "    print(\"two\")\n",
        "  case 9:\n",
        "    print(\"zero\")"
      ]
    }
  ],
  "metadata": {
    "colab": {
      "provenance": []
    },
    "kernelspec": {
      "display_name": "Python 3 (ipykernel)",
      "language": "python",
      "name": "python3"
    },
    "language_info": {
      "codemirror_mode": {
        "name": "ipython",
        "version": 3
      },
      "file_extension": ".py",
      "mimetype": "text/x-python",
      "name": "python",
      "nbconvert_exporter": "python",
      "pygments_lexer": "ipython3",
      "version": "3.10.9"
    }
  },
  "nbformat": 4,
  "nbformat_minor": 0
}